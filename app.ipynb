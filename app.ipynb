{
 "cells": [
  {
   "cell_type": "markdown",
   "id": "662ba368",
   "metadata": {},
   "source": [
    "# Convolutional Neural Networks\n",
    "\n",
    "## Project: Write an Algorithm for Landmark Classification\n",
    "\n",
    "### A simple app\n",
    "\n",
    "In this notebook we build a very simple app that uses our exported model.\n",
    "\n",
    "> <img src=\"static_images/icons/noun-info-2558213.png\" alt=\"?\" style=\"width:25px\"/> Note how we are not importing anything from our source code (we do not use any module from the ``src`` directory). This is because the exported model, differently from the model weights, is a standalone serialization of our model and therefore it does not need anything else. You can ship that file to anybody, and as long as they can import ``torch``, they will be able to use your model. This is very important for releasing pytorch models to production.\n",
    "\n",
    "### Test your app\n",
    "Go to a search engine for images (like Google Images) and search for images of some of the landmarks, like the Eiffel Tower, the Golden Gate Bridge, Machu Picchu and so on. Save a few examples locally, then upload them to your app to see how your model behaves!\n",
    "\n",
    "The app will show the top 5 classes that the model think are most relevant for the picture you have uploaded"
   ]
  },
  {
   "cell_type": "code",
   "execution_count": 5,
   "id": "41cf69611bdf6d3d",
   "metadata": {
    "ExecuteTime": {
     "end_time": "2023-09-07T16:52:17.596101156Z",
     "start_time": "2023-09-07T16:52:17.248238253Z"
    }
   },
   "outputs": [
    {
     "name": "stdout",
     "output_type": "stream",
     "text": [
      "Enabling notebook extension jupyter-js-widgets/extension...\r\n",
      "      - Validating: \u001b[32mOK\u001b[0m\r\n"
     ]
    }
   ],
   "source": [
    "!jupyter nbextension enable --py widgetsnbextension"
   ]
  },
  {
   "cell_type": "code",
   "execution_count": 2,
   "id": "bda5a833",
   "metadata": {
    "ExecuteTime": {
     "end_time": "2023-09-07T16:52:29.382509743Z",
     "start_time": "2023-09-07T16:52:26.667701258Z"
    },
    "tags": []
   },
   "outputs": [
    {
     "data": {
      "application/vnd.jupyter.widget-view+json": {
       "model_id": "3e81ed9c2f6f45dcaf27b1468ff9e462",
       "version_major": 2,
       "version_minor": 0
      },
      "text/plain": [
       "VBox(children=(Label(value='Please upload a picture of a landmark'), FileUpload(value={}, description='Upload'…"
      ]
     },
     "metadata": {},
     "output_type": "display_data"
    },
    {
     "name": "stderr",
     "output_type": "stream",
     "text": [
      "code/__torch__/torchvision/transforms/functional.py:188: UserWarning: The default value of the antialias parameter of all the resizing transforms (Resize(), RandomResizedCrop(), etc.) will change from None to True in v0.17, in order to be consistent across the PIL and Tensor backends. To suppress this warning, directly pass antialias=True (recommended, future default), antialias=None (current default, which means False for Tensors and True for PIL), or antialias=False (only works on Tensors - PIL will still use antialiasing). This also applies if you are using the inference transforms from the models weights: update the call to weights.transforms(antialias=True).\n"
     ]
    }
   ],
   "source": [
    "from ipywidgets import VBox, Button, FileUpload, Output, Label\n",
    "from PIL import Image\n",
    "from IPython.display import display\n",
    "import io\n",
    "import numpy as np\n",
    "import torchvision\n",
    "import torchvision.transforms as T\n",
    "import torch\n",
    "\n",
    "# Decide which model you want to use among the ones exported\n",
    "learn_inf = torch.jit.load('checkpoints/transfer_exported.pt')\n",
    "\n",
    "def on_click_classify(change):\n",
    "\n",
    "    # Load image that has beenimport torchvision uploaded\n",
    "    fn = io.BytesIO(btn_upload.data[-1])\n",
    "\n",
    "    img = Image.open(fn)\n",
    "    img.load()\n",
    "\n",
    "    # Let's clear the previous output (if any)\n",
    "    out_pl.clear_output()\n",
    "\n",
    "    # Display the image\n",
    "    with out_pl:\n",
    "\n",
    "        ratio = img.size[0] / img.size[1]\n",
    "        c = img.copy()\n",
    "        c.thumbnail([ratio * 200, 200])\n",
    "        display(c)\n",
    "\n",
    "    # Transform to tensor\n",
    "    timg = T.ToTensor()(img).unsqueeze_(0)\n",
    "\n",
    "    # Calling the model\n",
    "    softmax = learn_inf(timg).data.cpu().numpy().squeeze()\n",
    "    \n",
    "    # Get the indexes of the classes ordered by softmax\n",
    "    # (larger first)\n",
    "    idxs = np.argsort(softmax)[::-1]\n",
    "    \n",
    "    # Loop over the classes with the largest softmax\n",
    "    for i in range(5):\n",
    "        # Get softmax value\n",
    "        p = softmax[idxs[i]]\n",
    "    \n",
    "        # Get class name\n",
    "        landmark_name = learn_inf.class_names[idxs[i]]\n",
    "        \n",
    "        labels[i].value = f\"{landmark_name} (prob: {p:.2f})\"\n",
    "\n",
    "\n",
    "# Putting back btn_upload to a widget for next cell\n",
    "btn_upload = FileUpload()\n",
    "\n",
    "btn_run = Button(description=\"Classify\")\n",
    "btn_run.on_click(on_click_classify)\n",
    "\n",
    "labels = []\n",
    "for _ in range(5):\n",
    "    labels.append(Label())\n",
    "\n",
    "out_pl = Output()\n",
    "out_pl.clear_output()\n",
    "\n",
    "wgs = [Label(\"Please upload a picture of a landmark\"), btn_upload, btn_run, out_pl]\n",
    "wgs.extend(labels)\n",
    "\n",
    "VBox(wgs)"
   ]
  },
  {
   "cell_type": "markdown",
   "id": "267f9867",
   "metadata": {},
   "source": [
    "## (optional) Standalone app or web app\n",
    "\n",
    "You can run this notebook as a standalone app on your computer by following these steps:\n",
    "\n",
    "1. Download this notebook in a directory on your machine\n",
    "2. Download the model export (for example, ``checkpoints/transfer_exported.pt``) in a subdirectory called ``checkpoints`` within the directory where you save the app.ipynb notebook\n",
    "3. Install voila if you don't have it already (``pip install voila``)\n",
    "4. Run your app: ``voila app.ipynb --show_tracebacks=True`voila app.ipynb --show_tracebacks=True``\n",
    "5. Customize your notebook to make your app prettier and rerun voila\n",
    "\n",
    "You can also deploy this app as a website using Binder: https://voila.readthedocs.io/en/stable/deploy.html#deployment-on-binder"
   ]
  },
  {
   "cell_type": "code",
   "execution_count": 3,
   "id": "b4195b9e240ad4ae",
   "metadata": {
    "ExecuteTime": {
     "end_time": "2023-09-02T04:16:09.171585224Z",
     "start_time": "2023-09-02T04:16:00.031746947Z"
    }
   },
   "outputs": [
    {
     "name": "stdout",
     "output_type": "stream",
     "text": [
      "Requirement already satisfied: voila in /home/sp4rq/anaconda3/envs/udacity/lib/python3.8/site-packages (0.5.1)\n",
      "Requirement already satisfied: jupyter-client<9,>=7.4.4 in /home/sp4rq/anaconda3/envs/udacity/lib/python3.8/site-packages (from voila) (7.4.9)\n",
      "Requirement already satisfied: jupyter-core>=4.11.0 in /home/sp4rq/anaconda3/envs/udacity/lib/python3.8/site-packages (from voila) (5.3.0)\n",
      "Requirement already satisfied: jupyter-server<3,>=2.0.0 in /home/sp4rq/anaconda3/envs/udacity/lib/python3.8/site-packages (from voila) (2.7.3)\n",
      "Requirement already satisfied: jupyterlab-server<3,>=2.3.0 in /home/sp4rq/anaconda3/envs/udacity/lib/python3.8/site-packages (from voila) (2.22.0)\n",
      "Requirement already satisfied: nbclient<0.8,>=0.4.0 in /home/sp4rq/anaconda3/envs/udacity/lib/python3.8/site-packages (from voila) (0.5.13)\n",
      "Requirement already satisfied: nbconvert<8,>=6.4.5 in /home/sp4rq/anaconda3/envs/udacity/lib/python3.8/site-packages (from voila) (6.5.4)\n",
      "Requirement already satisfied: traitlets<6,>=5.0.3 in /home/sp4rq/anaconda3/envs/udacity/lib/python3.8/site-packages (from voila) (5.7.1)\n",
      "Requirement already satisfied: websockets>=9.0 in /home/sp4rq/anaconda3/envs/udacity/lib/python3.8/site-packages (from voila) (11.0.3)\n",
      "Requirement already satisfied: entrypoints in /home/sp4rq/anaconda3/envs/udacity/lib/python3.8/site-packages (from jupyter-client<9,>=7.4.4->voila) (0.4)\n",
      "Requirement already satisfied: nest-asyncio>=1.5.4 in /home/sp4rq/anaconda3/envs/udacity/lib/python3.8/site-packages (from jupyter-client<9,>=7.4.4->voila) (1.5.6)\n",
      "Requirement already satisfied: python-dateutil>=2.8.2 in /home/sp4rq/anaconda3/envs/udacity/lib/python3.8/site-packages (from jupyter-client<9,>=7.4.4->voila) (2.8.2)\n",
      "Requirement already satisfied: pyzmq>=23.0 in /home/sp4rq/anaconda3/envs/udacity/lib/python3.8/site-packages (from jupyter-client<9,>=7.4.4->voila) (25.1.1)\n",
      "Requirement already satisfied: tornado>=6.2 in /home/sp4rq/anaconda3/envs/udacity/lib/python3.8/site-packages (from jupyter-client<9,>=7.4.4->voila) (6.3.2)\n",
      "Requirement already satisfied: platformdirs>=2.5 in /home/sp4rq/anaconda3/envs/udacity/lib/python3.8/site-packages (from jupyter-core>=4.11.0->voila) (3.10.0)\n",
      "Requirement already satisfied: anyio>=3.1.0 in /home/sp4rq/anaconda3/envs/udacity/lib/python3.8/site-packages (from jupyter-server<3,>=2.0.0->voila) (3.5.0)\n",
      "Requirement already satisfied: argon2-cffi in /home/sp4rq/anaconda3/envs/udacity/lib/python3.8/site-packages (from jupyter-server<3,>=2.0.0->voila) (21.3.0)\n",
      "Requirement already satisfied: jinja2 in /home/sp4rq/anaconda3/envs/udacity/lib/python3.8/site-packages (from jupyter-server<3,>=2.0.0->voila) (3.1.2)\n",
      "Requirement already satisfied: jupyter-events>=0.6.0 in /home/sp4rq/anaconda3/envs/udacity/lib/python3.8/site-packages (from jupyter-server<3,>=2.0.0->voila) (0.6.3)\n",
      "Requirement already satisfied: jupyter-server-terminals in /home/sp4rq/anaconda3/envs/udacity/lib/python3.8/site-packages (from jupyter-server<3,>=2.0.0->voila) (0.4.4)\n",
      "Requirement already satisfied: nbformat>=5.3.0 in /home/sp4rq/anaconda3/envs/udacity/lib/python3.8/site-packages (from jupyter-server<3,>=2.0.0->voila) (5.7.0)\n",
      "Requirement already satisfied: overrides in /home/sp4rq/anaconda3/envs/udacity/lib/python3.8/site-packages (from jupyter-server<3,>=2.0.0->voila) (7.4.0)\n",
      "Requirement already satisfied: packaging in /home/sp4rq/anaconda3/envs/udacity/lib/python3.8/site-packages (from jupyter-server<3,>=2.0.0->voila) (23.1)\n",
      "Requirement already satisfied: prometheus-client in /home/sp4rq/anaconda3/envs/udacity/lib/python3.8/site-packages (from jupyter-server<3,>=2.0.0->voila) (0.14.1)\n",
      "Requirement already satisfied: send2trash>=1.8.2 in /home/sp4rq/anaconda3/envs/udacity/lib/python3.8/site-packages (from jupyter-server<3,>=2.0.0->voila) (1.8.2)\n",
      "Requirement already satisfied: terminado>=0.8.3 in /home/sp4rq/anaconda3/envs/udacity/lib/python3.8/site-packages (from jupyter-server<3,>=2.0.0->voila) (0.17.1)\n",
      "Requirement already satisfied: websocket-client in /home/sp4rq/anaconda3/envs/udacity/lib/python3.8/site-packages (from jupyter-server<3,>=2.0.0->voila) (0.58.0)\n",
      "Requirement already satisfied: babel>=2.10 in /home/sp4rq/anaconda3/envs/udacity/lib/python3.8/site-packages (from jupyterlab-server<3,>=2.3.0->voila) (2.11.0)\n",
      "Requirement already satisfied: importlib-metadata>=4.8.3 in /home/sp4rq/anaconda3/envs/udacity/lib/python3.8/site-packages (from jupyterlab-server<3,>=2.3.0->voila) (6.0.0)\n",
      "Requirement already satisfied: json5>=0.9.0 in /home/sp4rq/anaconda3/envs/udacity/lib/python3.8/site-packages (from jupyterlab-server<3,>=2.3.0->voila) (0.9.6)\n",
      "Requirement already satisfied: jsonschema>=4.17.3 in /home/sp4rq/anaconda3/envs/udacity/lib/python3.8/site-packages (from jupyterlab-server<3,>=2.3.0->voila) (4.17.3)\n",
      "Requirement already satisfied: requests>=2.28 in /home/sp4rq/anaconda3/envs/udacity/lib/python3.8/site-packages (from jupyterlab-server<3,>=2.3.0->voila) (2.31.0)\n",
      "Requirement already satisfied: lxml in /home/sp4rq/anaconda3/envs/udacity/lib/python3.8/site-packages (from nbconvert<8,>=6.4.5->voila) (4.9.2)\n",
      "Requirement already satisfied: beautifulsoup4 in /home/sp4rq/anaconda3/envs/udacity/lib/python3.8/site-packages (from nbconvert<8,>=6.4.5->voila) (4.12.2)\n",
      "Requirement already satisfied: bleach in /home/sp4rq/anaconda3/envs/udacity/lib/python3.8/site-packages (from nbconvert<8,>=6.4.5->voila) (4.1.0)\n",
      "Requirement already satisfied: defusedxml in /home/sp4rq/anaconda3/envs/udacity/lib/python3.8/site-packages (from nbconvert<8,>=6.4.5->voila) (0.7.1)\n",
      "Requirement already satisfied: jupyterlab-pygments in /home/sp4rq/anaconda3/envs/udacity/lib/python3.8/site-packages (from nbconvert<8,>=6.4.5->voila) (0.1.2)\n",
      "Requirement already satisfied: MarkupSafe>=2.0 in /home/sp4rq/anaconda3/envs/udacity/lib/python3.8/site-packages (from nbconvert<8,>=6.4.5->voila) (2.1.1)\n",
      "Requirement already satisfied: mistune<2,>=0.8.1 in /home/sp4rq/anaconda3/envs/udacity/lib/python3.8/site-packages (from nbconvert<8,>=6.4.5->voila) (0.8.4)\n",
      "Requirement already satisfied: pandocfilters>=1.4.1 in /home/sp4rq/anaconda3/envs/udacity/lib/python3.8/site-packages (from nbconvert<8,>=6.4.5->voila) (1.5.0)\n",
      "Requirement already satisfied: pygments>=2.4.1 in /home/sp4rq/anaconda3/envs/udacity/lib/python3.8/site-packages (from nbconvert<8,>=6.4.5->voila) (2.15.1)\n",
      "Requirement already satisfied: tinycss2 in /home/sp4rq/anaconda3/envs/udacity/lib/python3.8/site-packages (from nbconvert<8,>=6.4.5->voila) (1.2.1)\n",
      "Requirement already satisfied: idna>=2.8 in /home/sp4rq/anaconda3/envs/udacity/lib/python3.8/site-packages (from anyio>=3.1.0->jupyter-server<3,>=2.0.0->voila) (3.4)\n",
      "Requirement already satisfied: sniffio>=1.1 in /home/sp4rq/anaconda3/envs/udacity/lib/python3.8/site-packages (from anyio>=3.1.0->jupyter-server<3,>=2.0.0->voila) (1.2.0)\n",
      "Requirement already satisfied: pytz>=2015.7 in /home/sp4rq/anaconda3/envs/udacity/lib/python3.8/site-packages (from babel>=2.10->jupyterlab-server<3,>=2.3.0->voila) (2022.7)\n",
      "Requirement already satisfied: zipp>=0.5 in /home/sp4rq/anaconda3/envs/udacity/lib/python3.8/site-packages (from importlib-metadata>=4.8.3->jupyterlab-server<3,>=2.3.0->voila) (3.11.0)\n",
      "Requirement already satisfied: attrs>=17.4.0 in /home/sp4rq/anaconda3/envs/udacity/lib/python3.8/site-packages (from jsonschema>=4.17.3->jupyterlab-server<3,>=2.3.0->voila) (22.1.0)\n",
      "Requirement already satisfied: importlib-resources>=1.4.0 in /home/sp4rq/anaconda3/envs/udacity/lib/python3.8/site-packages (from jsonschema>=4.17.3->jupyterlab-server<3,>=2.3.0->voila) (5.2.0)\n",
      "Requirement already satisfied: pkgutil-resolve-name>=1.3.10 in /home/sp4rq/anaconda3/envs/udacity/lib/python3.8/site-packages (from jsonschema>=4.17.3->jupyterlab-server<3,>=2.3.0->voila) (1.3.10)\n",
      "Requirement already satisfied: pyrsistent!=0.17.0,!=0.17.1,!=0.17.2,>=0.14.0 in /home/sp4rq/anaconda3/envs/udacity/lib/python3.8/site-packages (from jsonschema>=4.17.3->jupyterlab-server<3,>=2.3.0->voila) (0.18.0)\n",
      "Requirement already satisfied: python-json-logger>=2.0.4 in /home/sp4rq/anaconda3/envs/udacity/lib/python3.8/site-packages (from jupyter-events>=0.6.0->jupyter-server<3,>=2.0.0->voila) (2.0.7)\n",
      "Requirement already satisfied: pyyaml>=5.3 in /home/sp4rq/anaconda3/envs/udacity/lib/python3.8/site-packages (from jupyter-events>=0.6.0->jupyter-server<3,>=2.0.0->voila) (6.0)\n",
      "Requirement already satisfied: rfc3339-validator in /home/sp4rq/anaconda3/envs/udacity/lib/python3.8/site-packages (from jupyter-events>=0.6.0->jupyter-server<3,>=2.0.0->voila) (0.1.4)\n",
      "Requirement already satisfied: rfc3986-validator>=0.1.1 in /home/sp4rq/anaconda3/envs/udacity/lib/python3.8/site-packages (from jupyter-events>=0.6.0->jupyter-server<3,>=2.0.0->voila) (0.1.1)\n"
     ]
    },
    {
     "name": "stdout",
     "output_type": "stream",
     "text": [
      "Requirement already satisfied: fastjsonschema in /home/sp4rq/anaconda3/envs/udacity/lib/python3.8/site-packages (from nbformat>=5.3.0->jupyter-server<3,>=2.0.0->voila) (2.16.2)\n",
      "Requirement already satisfied: six>=1.5 in /home/sp4rq/anaconda3/envs/udacity/lib/python3.8/site-packages (from python-dateutil>=2.8.2->jupyter-client<9,>=7.4.4->voila) (1.16.0)\n",
      "Requirement already satisfied: charset-normalizer<4,>=2 in /home/sp4rq/anaconda3/envs/udacity/lib/python3.8/site-packages (from requests>=2.28->jupyterlab-server<3,>=2.3.0->voila) (2.0.4)\n",
      "Requirement already satisfied: urllib3<3,>=1.21.1 in /home/sp4rq/anaconda3/envs/udacity/lib/python3.8/site-packages (from requests>=2.28->jupyterlab-server<3,>=2.3.0->voila) (1.26.16)\n",
      "Requirement already satisfied: certifi>=2017.4.17 in /home/sp4rq/anaconda3/envs/udacity/lib/python3.8/site-packages (from requests>=2.28->jupyterlab-server<3,>=2.3.0->voila) (2023.7.22)\n",
      "Requirement already satisfied: ptyprocess in /home/sp4rq/anaconda3/envs/udacity/lib/python3.8/site-packages (from terminado>=0.8.3->jupyter-server<3,>=2.0.0->voila) (0.7.0)\n",
      "Requirement already satisfied: argon2-cffi-bindings in /home/sp4rq/anaconda3/envs/udacity/lib/python3.8/site-packages (from argon2-cffi->jupyter-server<3,>=2.0.0->voila) (21.2.0)\n",
      "Requirement already satisfied: soupsieve>1.2 in /home/sp4rq/anaconda3/envs/udacity/lib/python3.8/site-packages (from beautifulsoup4->nbconvert<8,>=6.4.5->voila) (2.4)\n",
      "Requirement already satisfied: webencodings in /home/sp4rq/anaconda3/envs/udacity/lib/python3.8/site-packages (from bleach->nbconvert<8,>=6.4.5->voila) (0.5.1)\n",
      "Requirement already satisfied: fqdn in /home/sp4rq/anaconda3/envs/udacity/lib/python3.8/site-packages (from jsonschema>=4.17.3->jupyterlab-server<3,>=2.3.0->voila) (1.5.1)\n",
      "Requirement already satisfied: isoduration in /home/sp4rq/anaconda3/envs/udacity/lib/python3.8/site-packages (from jsonschema>=4.17.3->jupyterlab-server<3,>=2.3.0->voila) (20.11.0)\n",
      "Requirement already satisfied: jsonpointer>1.13 in /home/sp4rq/anaconda3/envs/udacity/lib/python3.8/site-packages (from jsonschema>=4.17.3->jupyterlab-server<3,>=2.3.0->voila) (2.4)\n",
      "Requirement already satisfied: uri-template in /home/sp4rq/anaconda3/envs/udacity/lib/python3.8/site-packages (from jsonschema>=4.17.3->jupyterlab-server<3,>=2.3.0->voila) (1.3.0)\n",
      "Requirement already satisfied: webcolors>=1.11 in /home/sp4rq/anaconda3/envs/udacity/lib/python3.8/site-packages (from jsonschema>=4.17.3->jupyterlab-server<3,>=2.3.0->voila) (1.13)\n",
      "Requirement already satisfied: cffi>=1.0.1 in /home/sp4rq/anaconda3/envs/udacity/lib/python3.8/site-packages (from argon2-cffi-bindings->argon2-cffi->jupyter-server<3,>=2.0.0->voila) (1.15.1)\n",
      "Requirement already satisfied: pycparser in /home/sp4rq/anaconda3/envs/udacity/lib/python3.8/site-packages (from cffi>=1.0.1->argon2-cffi-bindings->argon2-cffi->jupyter-server<3,>=2.0.0->voila) (2.21)\n",
      "Requirement already satisfied: arrow>=0.15.0 in /home/sp4rq/anaconda3/envs/udacity/lib/python3.8/site-packages (from isoduration->jsonschema>=4.17.3->jupyterlab-server<3,>=2.3.0->voila) (1.2.3)\n"
     ]
    }
   ],
   "source": [
    "!pip install voila"
   ]
  },
  {
   "cell_type": "code",
   "execution_count": 1,
   "id": "c61c1c7cbd44299b",
   "metadata": {
    "ExecuteTime": {
     "end_time": "2023-09-02T04:19:51.956193086Z",
     "start_time": "2023-09-02T04:18:52.040438971Z"
    }
   },
   "outputs": [
    {
     "name": "stdout",
     "output_type": "stream",
     "text": [
      "[Voila] Using /tmp to store connection files\n",
      "[Voila] Storing connection files in /tmp/voila_ktpcmslh.\n",
      "[Voila] Serving static files from /home/sp4rq/anaconda3/envs/udacity/lib/python3.8/site-packages/voila/static.\n",
      "[Voila] Voilà is running at:\n",
      "http://localhost:8866/\n",
      "[Voila] WARNING | Clearing invalid/expired login cookie username-localhost-8866\n",
      "[Voila] Kernel started: d9caee58-0bc0-4a02-aa58-fd034d1f851a\n",
      "404 GET /voila/files/static_images/icons/noun-info-2558213.png (::1) 0.94ms\n",
      "^C\n",
      "[Voila] Stopping...\n",
      "[Voila] Kernel shutdown: d9caee58-0bc0-4a02-aa58-fd034d1f851a\n"
     ]
    }
   ],
   "source": [
    "!voila app.ipynb --show_tracebacks=True"
   ]
  },
  {
   "cell_type": "markdown",
   "id": "3f87207e",
   "metadata": {},
   "source": [
    "# Create your submission archive\n",
    "\n",
    "Now that you are done with your project, please run the following cell. It will generate a file containing all the code you have written, as well as the notebooks. Please submit that file to complete your project"
   ]
  },
  {
   "cell_type": "code",
   "execution_count": 2,
   "id": "5cbba984",
   "metadata": {
    "ExecuteTime": {
     "end_time": "2023-08-22T23:30:55.395923927Z",
     "start_time": "2023-08-22T23:30:50.624938552Z"
    }
   },
   "outputs": [
    {
     "name": "stdout",
     "output_type": "stream",
     "text": [
      "executing: jupyter nbconvert --to html cnn_from_scratch.ipynb\n",
      "[NbConvertApp] Converting notebook cnn_from_scratch.ipynb to html\n",
      "[NbConvertApp] Writing 2736814 bytes to cnn_from_scratch.html\n",
      "executing: jupyter nbconvert --to html transfer_learning.ipynb\n",
      "[NbConvertApp] Converting notebook transfer_learning.ipynb to html\n",
      "[NbConvertApp] Writing 1668320 bytes to transfer_learning.html\n",
      "executing: jupyter nbconvert --to html app.ipynb\n",
      "[NbConvertApp] Converting notebook app.ipynb to html\n",
      "[NbConvertApp] Writing 607770 bytes to app.html\n",
      "Adding files to submission_2023-09-07T18h57m.tar.gz\n",
      "src/create_submit_pkg.py\n",
      "src/data.py\n",
      "src/helpers.py\n",
      "src/model.py\n",
      "src/optimization.py\n",
      "src/predictor.py\n",
      "src/train.py\n",
      "src/transfer.py\n",
      "cnn_from_scratch.ipynb\n",
      "transfer_learning.ipynb\n",
      "app.ipynb\n",
      "cnn_from_scratch.html\n",
      "transfer_learning.html\n",
      "app.html\n",
      "\n",
      "----------------------------------------------------------------\n",
      "Done. Please submit the file submission_2023-09-07T18h57m.tar.gz\n",
      "----------------------------------------------------------------\n"
     ]
    }
   ],
   "source": [
    "!python src/create_submit_pkg.py"
   ]
  },
  {
   "cell_type": "code",
   "execution_count": null,
   "id": "5948d9a3",
   "metadata": {},
   "outputs": [],
   "source": []
  }
 ],
 "metadata": {
  "kernelspec": {
   "display_name": "Python 3 (ipykernel)",
   "language": "python",
   "name": "python3"
  },
  "language_info": {
   "codemirror_mode": {
    "name": "ipython",
    "version": 3
   },
   "file_extension": ".py",
   "mimetype": "text/x-python",
   "name": "python",
   "nbconvert_exporter": "python",
   "pygments_lexer": "ipython3",
   "version": "3.8.17"
  },
  "widgets": {
   "application/vnd.jupyter.widget-state+json": {
    "state": {},
    "version_major": 2,
    "version_minor": 0
   }
  }
 },
 "nbformat": 4,
 "nbformat_minor": 5
}
